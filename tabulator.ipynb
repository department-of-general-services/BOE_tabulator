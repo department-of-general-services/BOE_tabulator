{
 "cells": [
  {
   "cell_type": "markdown",
   "metadata": {},
   "source": [
    "# Board of Estimates Tabulator  \n",
    "The purpose of this software tool is to use the pdf files that store the minutes of Baltimore's Board of Estimates to create a small database with linked tables for entities that could possibly include:\n",
    "\n",
    "- __meetings__\n",
    "    - one entity per BoE meeting\n",
    "    - primary key is the date\n",
    "- __agreements__\n",
    "    - primary key is BAN plus the partner organization's name\n",
    "    - features include: date, dollar amount, BAN, description\n",
    "- __prequalifications__\n",
    "- __contractors__ \n",
    "- __personnel__\n",
    "- __reclassifications__"
   ]
  },
  {
   "cell_type": "markdown",
   "metadata": {},
   "source": [
    "## Setup\n",
    "### Import packages  \n",
    "**We may want to break visualization code into a separate notebook"
   ]
  },
  {
   "cell_type": "code",
   "execution_count": 1,
   "metadata": {},
   "outputs": [],
   "source": [
    "from datetime import datetime\n",
    "import pandas as pd\n",
    "import requests\n",
    "from bs4 import BeautifulSoup\n",
    "import re\n",
    "from pathlib import Path\n",
    "import time \n",
    "import seaborn as sns\n",
    "import numpy as np\n",
    "from matplotlib import pyplot as plt\n",
    "\n",
    "from common.utils import del_dir_contents, is_empty\n",
    "from common.parse_utils import parse_pdf, store_pdf_text_to_df\n",
    "from common.scrape_utils import store_boe_pdfs\n",
    "\n",
    "from pandas.plotting import register_matplotlib_converters\n",
    "register_matplotlib_converters() "
   ]
  },
  {
   "cell_type": "markdown",
   "metadata": {},
   "source": [
    "### Define directories and urls\n",
    "We'll also create the `pdf_files` directory if it doesn't exist already."
   ]
  },
  {
   "cell_type": "code",
   "execution_count": 4,
   "metadata": {},
   "outputs": [
    {
     "name": "stdout",
     "output_type": "stream",
     "text": [
      "The pdf directory has been created.\n"
     ]
    }
   ],
   "source": [
    "base_url = \"https://comptroller.baltimorecity.gov/\"\n",
    "minutes_url = base_url + \"boe/meetings/minutes\"\n",
    "\n",
    "root = Path.cwd()\n",
    "pdf_dir = root / \"pdf_files\"\n",
    "\n",
    "try:\n",
    "    pdf_dir.mkdir(parents=True, exist_ok=False)\n",
    "except FileExistsError:\n",
    "    print(\"The pdf directory already exists.\")\n",
    "else:\n",
    "    print(\"The pdf directory has been created.\")"
   ]
  },
  {
   "cell_type": "markdown",
   "metadata": {},
   "source": [
    "### Store PDFs to local directory  \n",
    "The following code downloads all the .pdf files with minutes from the Board of Estimates and saves them in your local version of this repository. \n",
    "\n",
    "The code will skip this time-consuming step if it detects files within the `pdf_files` directory.\n",
    "\n",
    "The tricky part of this is getting a correct date for every file. Some files have a typo somewhere in html, so the functions `store_boe_pdfs()` and  `parse_long_dates()` are built to handle these errors. We may see new types of errors appear in the future, however."
   ]
  },
  {
   "cell_type": "code",
   "execution_count": 6,
   "metadata": {},
   "outputs": [
    {
     "name": "stdout",
     "output_type": "stream",
     "text": [
      "Files already exist in the pdf directory.\n"
     ]
    }
   ],
   "source": [
    "# set to true if you'll be repeatedly running store_boe_pdfs()\n",
    "testing_mode = False\n",
    "\n",
    "if testing_mode:\n",
    "    if pdf_dir:\n",
    "        del_dir_contents(pdf_dir)\n",
    "if is_empty(pdf_dir):\n",
    "    store_boe_pdfs(base_url, minutes_url)\n",
    "else: \n",
    "    print(\"Files already exist in the pdf directory.\")"
   ]
  },
  {
   "cell_type": "markdown",
   "metadata": {},
   "source": [
    "## Process and prepare sample data\n",
    "### Parse only a few sample pdfs\n",
    "While we're still in development mode, we can save some time by only parsing a few pdfs instead of all 500+ "
   ]
  },
  {
   "cell_type": "code",
   "execution_count": 7,
   "metadata": {},
   "outputs": [
    {
     "name": "stdout",
     "output_type": "stream",
     "text": [
      "4680 BOARD OF ESITMATES November 20, 2013 MINUTES REGULAR MEETING Honorable Bernard C. \"Jack\" Young, President Honorable Stephanie Rawlings-Blake, Mayor - ABSENT Harry Black, Director of Finance Honorable Joan M. Pratt, Comptroller and Secretary George A. Nilson, City Solicitor Alfred H. Foxx, Director of Public Works David E. Ralph, Deputy City Solicitor Rudolph S. Chow, Deputy Director of Public Works Bernice H. Taylor, Deputy Comptroller and Clerk Pursuant to Article VI, Section 1(c) of the r\n"
     ]
    }
   ],
   "source": [
    "# specifies the paths for a couple sample pdfs\n",
    "meeting1_path = Path(\"pdf_files/2013/2013_11_20.pdf\")\n",
    "meeting2_path = Path(\"pdf_files/2010/2010_03_17.pdf\")\n",
    "\n",
    "# uses parse_pdf() to instantiate the Minutes class for each meeting\n",
    "meeting1 = parse_pdf(meeting1_path)\n",
    "meeting2 = parse_pdf(meeting2_path)\n",
    "\n",
    "print(meeting1.clean_text[:500])"
   ]
  },
  {
   "cell_type": "markdown",
   "metadata": {},
   "source": [
    "## Process and prepare data\n",
    "### Create a Pandas dataframe with full texts  \n",
    "Now that we have the .pdf files we need, we're ready to read them and store their text in a Pandas dataframe. \n",
    "\n",
    "This should take about one minute for each year of data."
   ]
  },
  {
   "cell_type": "code",
   "execution_count": null,
   "metadata": {},
   "outputs": [],
   "source": [
    "text_df_raw = store_pdf_text_to_df(pdf_dir)"
   ]
  },
  {
   "cell_type": "markdown",
   "metadata": {},
   "source": [
    "### View a sample of the stored text"
   ]
  },
  {
   "cell_type": "code",
   "execution_count": 10,
   "metadata": {},
   "outputs": [
    {
     "data": {
      "text/html": [
       "<div>\n",
       "<style scoped>\n",
       "    .dataframe tbody tr th:only-of-type {\n",
       "        vertical-align: middle;\n",
       "    }\n",
       "\n",
       "    .dataframe tbody tr th {\n",
       "        vertical-align: top;\n",
       "    }\n",
       "\n",
       "    .dataframe thead th {\n",
       "        text-align: right;\n",
       "    }\n",
       "</style>\n",
       "<table border=\"1\" class=\"dataframe\">\n",
       "  <thead>\n",
       "    <tr style=\"text-align: right;\">\n",
       "      <th></th>\n",
       "      <th>date</th>\n",
       "      <th>page_number</th>\n",
       "      <th>minutes</th>\n",
       "    </tr>\n",
       "  </thead>\n",
       "  <tbody>\n",
       "    <tr>\n",
       "      <th>376</th>\n",
       "      <td>2020-10-14</td>\n",
       "      <td>3960</td>\n",
       "      <td>3960\\n \\nBOARD OF ESTIMATES\\n \\n \\nOCTOBER 14,...</td>\n",
       "    </tr>\n",
       "    <tr>\n",
       "      <th>289</th>\n",
       "      <td>2010-07-14</td>\n",
       "      <td>2341</td>\n",
       "      <td>2341  BOARD OF ESTIMATES                      ...</td>\n",
       "    </tr>\n",
       "    <tr>\n",
       "      <th>315</th>\n",
       "      <td>2019-02-06</td>\n",
       "      <td>584</td>\n",
       "      <td>584\\n \\nBOARD OF \\nESTIMATES\\n \\nFEBRUARY 06, ...</td>\n",
       "    </tr>\n",
       "    <tr>\n",
       "      <th>0</th>\n",
       "      <td>2013-11-20</td>\n",
       "      <td>4680</td>\n",
       "      <td>4680  BOARD OF ESITMATES  November 20, 2013 MI...</td>\n",
       "    </tr>\n",
       "    <tr>\n",
       "      <th>285</th>\n",
       "      <td>2010-09-29</td>\n",
       "      <td>3357</td>\n",
       "      <td>3357  BOARD OF ESTIMATES                      ...</td>\n",
       "    </tr>\n",
       "    <tr>\n",
       "      <th>187</th>\n",
       "      <td>2009-08-19</td>\n",
       "      <td>3094</td>\n",
       "      <td>3094  BOARD OF ESTIMATES                      ...</td>\n",
       "    </tr>\n",
       "  </tbody>\n",
       "</table>\n",
       "</div>"
      ],
      "text/plain": [
       "           date page_number                                            minutes\n",
       "376  2020-10-14        3960  3960\\n \\nBOARD OF ESTIMATES\\n \\n \\nOCTOBER 14,...\n",
       "289  2010-07-14        2341  2341  BOARD OF ESTIMATES                      ...\n",
       "315  2019-02-06         584  584\\n \\nBOARD OF \\nESTIMATES\\n \\nFEBRUARY 06, ...\n",
       "0    2013-11-20        4680  4680  BOARD OF ESITMATES  November 20, 2013 MI...\n",
       "285  2010-09-29        3357  3357  BOARD OF ESTIMATES                      ...\n",
       "187  2009-08-19        3094  3094  BOARD OF ESTIMATES                      ..."
      ]
     },
     "execution_count": 10,
     "metadata": {},
     "output_type": "execute_result"
    }
   ],
   "source": [
    "text_df_raw.sample(6, random_state=444)"
   ]
  },
  {
   "cell_type": "markdown",
   "metadata": {},
   "source": [
    "### Replace erroneous characters and consolidate white spaces\n",
    "Not sure if decision to transform all multiple white spaces to a single white space will work for the long term because we may need to use multiple spaces to detect certain fields.\n",
    "\n",
    "I hope we won't need to do that, though. Currently we're consolidating all multiple white spaces into just one white space."
   ]
  },
  {
   "cell_type": "code",
   "execution_count": 11,
   "metadata": {},
   "outputs": [],
   "source": [
    "text_df = text_df_raw.copy()\n",
    "\n",
    "text_df['text'] = text_df['minutes'].apply(replace_chars)"
   ]
  },
  {
   "cell_type": "code",
   "execution_count": 12,
   "metadata": {},
   "outputs": [
    {
     "name": "stdout",
     "output_type": "stream",
     "text": [
      "4680  BOARD OF ESITMATES  November 20' 2013 MINUTES  REGULAR MEETING  Honorable Bernard C. \"Jack\" Young' President Honorable Stephanie Rawlings-Blake' Mayor - ABSENT Harry Black' Director of Finance Honorable Joan M. Pratt' Comptroller and Secretary George A. Nilson' City Solicitor \n",
      "Alfred H. Foxx' Director of Public Works David E. Ralph' Deputy City Solicitor Rudolph S. Chow' Deputy Director of Public Works \n",
      "Bernice H. Taylor' Deputy Comptroller and Clerk \n",
      "  Pursuant to Article VI' Section 1(c)\n"
     ]
    }
   ],
   "source": [
    "# view a sample of the transformed text\n",
    "print(text_df['text'][0][0:500])"
   ]
  },
  {
   "cell_type": "code",
   "execution_count": 33,
   "metadata": {},
   "outputs": [
    {
     "data": {
      "text/html": [
       "<div>\n",
       "<style scoped>\n",
       "    .dataframe tbody tr th:only-of-type {\n",
       "        vertical-align: middle;\n",
       "    }\n",
       "\n",
       "    .dataframe tbody tr th {\n",
       "        vertical-align: top;\n",
       "    }\n",
       "\n",
       "    .dataframe thead th {\n",
       "        text-align: right;\n",
       "    }\n",
       "</style>\n",
       "<table border=\"1\" class=\"dataframe\">\n",
       "  <thead>\n",
       "    <tr style=\"text-align: right;\">\n",
       "      <th></th>\n",
       "      <th>date</th>\n",
       "      <th>page_number</th>\n",
       "      <th>minutes</th>\n",
       "      <th>text</th>\n",
       "      <th>calendar_year</th>\n",
       "      <th>month</th>\n",
       "      <th>fiscal_year</th>\n",
       "    </tr>\n",
       "  </thead>\n",
       "  <tbody>\n",
       "    <tr>\n",
       "      <th>0</th>\n",
       "      <td>2013-11-20</td>\n",
       "      <td>4680</td>\n",
       "      <td>4680  BOARD OF ESITMATES  November 20, 2013 MI...</td>\n",
       "      <td>4680 BOARD OF ESITMATES November 20, 2013 MINU...</td>\n",
       "      <td>2013</td>\n",
       "      <td>11</td>\n",
       "      <td>2014</td>\n",
       "    </tr>\n",
       "    <tr>\n",
       "      <th>1</th>\n",
       "      <td>2013-01-30</td>\n",
       "      <td>280</td>\n",
       "      <td>280 BOARD OF ESTIMATES  JANUARY 30, 2013 MINUT...</td>\n",
       "      <td>280 BOARD OF ESTIMATES JANUARY 30, 2013 MINUTE...</td>\n",
       "      <td>2013</td>\n",
       "      <td>1</td>\n",
       "      <td>2013</td>\n",
       "    </tr>\n",
       "    <tr>\n",
       "      <th>2</th>\n",
       "      <td>2013-08-14</td>\n",
       "      <td>3045</td>\n",
       "      <td>3045 BOARD OF ESTIMATES  August 14, 2013 MINUT...</td>\n",
       "      <td>3045 BOARD OF ESTIMATES August 14, 2013 MINUTE...</td>\n",
       "      <td>2013</td>\n",
       "      <td>8</td>\n",
       "      <td>2014</td>\n",
       "    </tr>\n",
       "  </tbody>\n",
       "</table>\n",
       "</div>"
      ],
      "text/plain": [
       "        date page_number                                            minutes  \\\n",
       "0 2013-11-20        4680  4680  BOARD OF ESITMATES  November 20, 2013 MI...   \n",
       "1 2013-01-30         280  280 BOARD OF ESTIMATES  JANUARY 30, 2013 MINUT...   \n",
       "2 2013-08-14        3045  3045 BOARD OF ESTIMATES  August 14, 2013 MINUT...   \n",
       "\n",
       "                                                text  calendar_year  month  \\\n",
       "0  4680 BOARD OF ESITMATES November 20, 2013 MINU...           2013     11   \n",
       "1  280 BOARD OF ESTIMATES JANUARY 30, 2013 MINUTE...           2013      1   \n",
       "2  3045 BOARD OF ESTIMATES August 14, 2013 MINUTE...           2013      8   \n",
       "\n",
       "   fiscal_year  \n",
       "0         2014  \n",
       "1         2013  \n",
       "2         2014  "
      ]
     },
     "execution_count": 33,
     "metadata": {},
     "output_type": "execute_result"
    }
   ],
   "source": [
    "def add_fiscal_year(df):\n",
    "    df = df.copy()\n",
    "    df[\"calendar_year\"] = df[\"date\"].dt.year\n",
    "    df[\"month\"] = df[\"date\"].dt.month\n",
    "    c = pd.to_numeric(df[\"calendar_year\"])\n",
    "    df[\"fiscal_year\"] = np.where(df[\"month\"] >= 7, c + 1, c)\n",
    "    df[\"fiscal_year\"] = (pd.to_datetime(df[\"fiscal_year\"], format=\"%Y\")).dt.year\n",
    "    return df\n",
    "\n",
    "text_df['date'] = pd.to_datetime(text_df['date'])\n",
    "text_df = add_fiscal_year(text_df)\n",
    "\n",
    "text_df.head(3)"
   ]
  },
  {
   "cell_type": "markdown",
   "metadata": {},
   "source": [
    "### Store the date of meeting as the index"
   ]
  },
  {
   "cell_type": "code",
   "execution_count": 34,
   "metadata": {},
   "outputs": [
    {
     "data": {
      "text/html": [
       "<div>\n",
       "<style scoped>\n",
       "    .dataframe tbody tr th:only-of-type {\n",
       "        vertical-align: middle;\n",
       "    }\n",
       "\n",
       "    .dataframe tbody tr th {\n",
       "        vertical-align: top;\n",
       "    }\n",
       "\n",
       "    .dataframe thead th {\n",
       "        text-align: right;\n",
       "    }\n",
       "</style>\n",
       "<table border=\"1\" class=\"dataframe\">\n",
       "  <thead>\n",
       "    <tr style=\"text-align: right;\">\n",
       "      <th></th>\n",
       "      <th>date</th>\n",
       "      <th>page_number</th>\n",
       "      <th>minutes</th>\n",
       "      <th>text</th>\n",
       "      <th>calendar_year</th>\n",
       "      <th>month</th>\n",
       "      <th>fiscal_year</th>\n",
       "      <th>word_count</th>\n",
       "    </tr>\n",
       "    <tr>\n",
       "      <th>date</th>\n",
       "      <th></th>\n",
       "      <th></th>\n",
       "      <th></th>\n",
       "      <th></th>\n",
       "      <th></th>\n",
       "      <th></th>\n",
       "      <th></th>\n",
       "      <th></th>\n",
       "    </tr>\n",
       "  </thead>\n",
       "  <tbody>\n",
       "    <tr>\n",
       "      <th>2013-11-20</th>\n",
       "      <td>2013-11-20</td>\n",
       "      <td>4680</td>\n",
       "      <td>4680  BOARD OF ESITMATES  November 20, 2013 MI...</td>\n",
       "      <td>4680 BOARD OF ESITMATES November 20, 2013 MINU...</td>\n",
       "      <td>2013</td>\n",
       "      <td>11</td>\n",
       "      <td>2014</td>\n",
       "      <td>22448</td>\n",
       "    </tr>\n",
       "    <tr>\n",
       "      <th>2013-01-30</th>\n",
       "      <td>2013-01-30</td>\n",
       "      <td>280</td>\n",
       "      <td>280 BOARD OF ESTIMATES  JANUARY 30, 2013 MINUT...</td>\n",
       "      <td>280 BOARD OF ESTIMATES JANUARY 30, 2013 MINUTE...</td>\n",
       "      <td>2013</td>\n",
       "      <td>1</td>\n",
       "      <td>2013</td>\n",
       "      <td>11455</td>\n",
       "    </tr>\n",
       "    <tr>\n",
       "      <th>2013-08-14</th>\n",
       "      <td>2013-08-14</td>\n",
       "      <td>3045</td>\n",
       "      <td>3045 BOARD OF ESTIMATES  August 14, 2013 MINUT...</td>\n",
       "      <td>3045 BOARD OF ESTIMATES August 14, 2013 MINUTE...</td>\n",
       "      <td>2013</td>\n",
       "      <td>8</td>\n",
       "      <td>2014</td>\n",
       "      <td>42186</td>\n",
       "    </tr>\n",
       "  </tbody>\n",
       "</table>\n",
       "</div>"
      ],
      "text/plain": [
       "                 date page_number  \\\n",
       "date                                \n",
       "2013-11-20 2013-11-20        4680   \n",
       "2013-01-30 2013-01-30         280   \n",
       "2013-08-14 2013-08-14        3045   \n",
       "\n",
       "                                                      minutes  \\\n",
       "date                                                            \n",
       "2013-11-20  4680  BOARD OF ESITMATES  November 20, 2013 MI...   \n",
       "2013-01-30  280 BOARD OF ESTIMATES  JANUARY 30, 2013 MINUT...   \n",
       "2013-08-14  3045 BOARD OF ESTIMATES  August 14, 2013 MINUT...   \n",
       "\n",
       "                                                         text  calendar_year  \\\n",
       "date                                                                           \n",
       "2013-11-20  4680 BOARD OF ESITMATES November 20, 2013 MINU...           2013   \n",
       "2013-01-30  280 BOARD OF ESTIMATES JANUARY 30, 2013 MINUTE...           2013   \n",
       "2013-08-14  3045 BOARD OF ESTIMATES August 14, 2013 MINUTE...           2013   \n",
       "\n",
       "            month  fiscal_year  word_count  \n",
       "date                                        \n",
       "2013-11-20     11         2014       22448  \n",
       "2013-01-30      1         2013       11455  \n",
       "2013-08-14      8         2014       42186  "
      ]
     },
     "execution_count": 34,
     "metadata": {},
     "output_type": "execute_result"
    }
   ],
   "source": [
    "text_df = text_df.set_index('date', drop=False)\n",
    "text_df['word_count'] = text_df['text'].apply(lambda x: len(x.split()))\n",
    "\n",
    "text_df.head(3)"
   ]
  },
  {
   "cell_type": "markdown",
   "metadata": {},
   "source": [
    "## Compute and visualize a few basic features\n",
    "Let's see how two very basic features change over time:\n",
    "\n",
    "- Meetings per year\n",
    "- Total word count of all meetings per year"
   ]
  },
  {
   "cell_type": "markdown",
   "metadata": {},
   "source": [
    "### Filter to show only complete fiscal years"
   ]
  },
  {
   "cell_type": "code",
   "execution_count": 46,
   "metadata": {},
   "outputs": [
    {
     "data": {
      "text/html": [
       "<div>\n",
       "<style scoped>\n",
       "    .dataframe tbody tr th:only-of-type {\n",
       "        vertical-align: middle;\n",
       "    }\n",
       "\n",
       "    .dataframe tbody tr th {\n",
       "        vertical-align: top;\n",
       "    }\n",
       "\n",
       "    .dataframe thead th {\n",
       "        text-align: right;\n",
       "    }\n",
       "</style>\n",
       "<table border=\"1\" class=\"dataframe\">\n",
       "  <thead>\n",
       "    <tr style=\"text-align: right;\">\n",
       "      <th></th>\n",
       "      <th>fiscal_year</th>\n",
       "      <th>minutes</th>\n",
       "    </tr>\n",
       "  </thead>\n",
       "  <tbody>\n",
       "    <tr>\n",
       "      <th>1</th>\n",
       "      <td>2010</td>\n",
       "      <td>44</td>\n",
       "    </tr>\n",
       "    <tr>\n",
       "      <th>2</th>\n",
       "      <td>2011</td>\n",
       "      <td>46</td>\n",
       "    </tr>\n",
       "    <tr>\n",
       "      <th>3</th>\n",
       "      <td>2012</td>\n",
       "      <td>46</td>\n",
       "    </tr>\n",
       "  </tbody>\n",
       "</table>\n",
       "</div>"
      ],
      "text/plain": [
       "   fiscal_year  minutes\n",
       "1         2010       44\n",
       "2         2011       46\n",
       "3         2012       46"
      ]
     },
     "execution_count": 46,
     "metadata": {},
     "output_type": "execute_result"
    }
   ],
   "source": [
    "meetings_per_year = text_df[['minutes', 'fiscal_year']].groupby('fiscal_year').count().reset_index()\n",
    "\n",
    "cond_1 = meetings_per_year['fiscal_year'] < 2021\n",
    "cond_2 = meetings_per_year['fiscal_year'] > 2009\n",
    "\n",
    "meetings_per_year = meetings_per_year[cond_1 & cond_2]\n",
    "meetings_per_year.head(3)"
   ]
  },
  {
   "cell_type": "code",
   "execution_count": 50,
   "metadata": {},
   "outputs": [
    {
     "data": {
      "image/png": "[encoded data removed]",
      "text/plain": [
       "<Figure size 864x432 with 1 Axes>"
      ]
     },
     "metadata": {
      "needs_background": "light"
     },
     "output_type": "display_data"
    }
   ],
   "source": [
    "import matplotlib.ticker as ticker\n",
    "\n",
    "plt.figure(figsize=(12,6))\n",
    "ax = sns.lineplot(x='fiscal_year', y='minutes', data=meetings_per_year)\n",
    "\n",
    "ax.set(title=\"Meetings Per Fiscal Year\", ylabel=\"Number of meetings\", xlabel = \"Fiscal year\", ylim=(35, 50))\n",
    "ax.yaxis.set_major_locator(ticker.MultipleLocator(5))\n",
    "\n",
    "sns.despine()"
   ]
  },
  {
   "cell_type": "code",
   "execution_count": 52,
   "metadata": {},
   "outputs": [
    {
     "data": {
      "text/html": [
       "<div>\n",
       "<style scoped>\n",
       "    .dataframe tbody tr th:only-of-type {\n",
       "        vertical-align: middle;\n",
       "    }\n",
       "\n",
       "    .dataframe tbody tr th {\n",
       "        vertical-align: top;\n",
       "    }\n",
       "\n",
       "    .dataframe thead th {\n",
       "        text-align: right;\n",
       "    }\n",
       "</style>\n",
       "<table border=\"1\" class=\"dataframe\">\n",
       "  <thead>\n",
       "    <tr style=\"text-align: right;\">\n",
       "      <th></th>\n",
       "      <th>fiscal_year</th>\n",
       "      <th>word_count</th>\n",
       "    </tr>\n",
       "  </thead>\n",
       "  <tbody>\n",
       "    <tr>\n",
       "      <th>1</th>\n",
       "      <td>2010</td>\n",
       "      <td>788800</td>\n",
       "    </tr>\n",
       "    <tr>\n",
       "      <th>2</th>\n",
       "      <td>2011</td>\n",
       "      <td>788521</td>\n",
       "    </tr>\n",
       "    <tr>\n",
       "      <th>3</th>\n",
       "      <td>2012</td>\n",
       "      <td>903824</td>\n",
       "    </tr>\n",
       "  </tbody>\n",
       "</table>\n",
       "</div>"
      ],
      "text/plain": [
       "   fiscal_year  word_count\n",
       "1         2010      788800\n",
       "2         2011      788521\n",
       "3         2012      903824"
      ]
     },
     "execution_count": 52,
     "metadata": {},
     "output_type": "execute_result"
    }
   ],
   "source": [
    "words_per_year = text_df.groupby('fiscal_year')['word_count'].sum().reset_index()\n",
    "\n",
    "words_per_year = words_per_year[cond_1 & cond_2]\n",
    "\n",
    "words_per_year.head(3)"
   ]
  },
  {
   "cell_type": "code",
   "execution_count": 57,
   "metadata": {},
   "outputs": [
    {
     "data": {
      "image/png": "[encoded data removed]",
      "text/plain": [
       "<Figure size 864x432 with 1 Axes>"
      ]
     },
     "metadata": {
      "needs_background": "light"
     },
     "output_type": "display_data"
    }
   ],
   "source": [
    "plt.figure(figsize=(12,6))\n",
    "ax = sns.lineplot(x='fiscal_year', y='word_count', data=words_per_year)\n",
    "\n",
    "ax.set(title=\"Word Count Per Year\", ylabel=\"Words\", xlabel=\"Fiscal Year\", ylim=(400_000, 1_250_000))\n",
    "\n",
    "sns.despine()"
   ]
  },
  {
   "cell_type": "markdown",
   "metadata": {},
   "source": [
    "## Tabulate data\n",
    "### Create empty dataframes"
   ]
  },
  {
   "cell_type": "code",
   "execution_count": 60,
   "metadata": {},
   "outputs": [],
   "source": [
    "def create_dateframes():\n",
    "    meetings_df = pd.DataFrame(\n",
    "        columns=[\"date\", \"president\", \"mayor\", \"no_of_protests\", \"no_of_settlements\",]\n",
    "    )\n",
    "    agreements_df = pd.DataFrame(\n",
    "        columns=[\"date\", \"department\", \"contractor\", \"account_number\", \"agreement\",]\n",
    "    )\n",
    "    accounts_df = pd.DataFrame(\n",
    "        columns=[\"date\", \"account_number\",]\n",
    "    )\n",
    "    \n",
    "    return meetings_df, agreements_df, accounts_df\n",
    "\n",
    "agreements_df, meetings_df, accounts_df = create_dateframes()"
   ]
  },
  {
   "cell_type": "markdown",
   "metadata": {},
   "source": [
    "### Test out account regex"
   ]
  },
  {
   "cell_type": "code",
   "execution_count": 84,
   "metadata": {},
   "outputs": [
    {
     "data": {
      "text/plain": [
       "1"
      ]
     },
     "execution_count": 84,
     "metadata": {},
     "output_type": "execute_result"
    }
   ],
   "source": [
    "account_lookup = r\"\\d{4}-\\d{6}-\\d{4}-\\d{6}-\\d{6}\"\n",
    "sample_text = text_df['text']\n",
    "sample_text = 'blah blah 5000-585919-1191-719000-603096 blah blah'\n",
    "list_of_accounts = list(re.findall(re.compile(account_lookup), sample_text))\n",
    "\n",
    "len(list_of_accounts)"
   ]
  },
  {
   "cell_type": "markdown",
   "metadata": {},
   "source": [
    "### List all account numbers for each meeting"
   ]
  },
  {
   "cell_type": "code",
   "execution_count": 85,
   "metadata": {},
   "outputs": [
    {
     "data": {
      "text/html": [
       "<div>\n",
       "<style scoped>\n",
       "    .dataframe tbody tr th:only-of-type {\n",
       "        vertical-align: middle;\n",
       "    }\n",
       "\n",
       "    .dataframe tbody tr th {\n",
       "        vertical-align: top;\n",
       "    }\n",
       "\n",
       "    .dataframe thead th {\n",
       "        text-align: right;\n",
       "    }\n",
       "</style>\n",
       "<table border=\"1\" class=\"dataframe\">\n",
       "  <thead>\n",
       "    <tr style=\"text-align: right;\">\n",
       "      <th></th>\n",
       "      <th>date</th>\n",
       "      <th>page_number</th>\n",
       "      <th>minutes</th>\n",
       "      <th>text</th>\n",
       "      <th>accounts</th>\n",
       "    </tr>\n",
       "  </thead>\n",
       "  <tbody>\n",
       "    <tr>\n",
       "      <th>0</th>\n",
       "      <td>2013-11-20</td>\n",
       "      <td>4680</td>\n",
       "      <td>4680  BOARD OF ESITMATES  November 20, 2013 MI...</td>\n",
       "      <td>4680 BOARD OF ESITMATES November 20, 2013 MINU...</td>\n",
       "      <td>[4000-496313-3573-591219-603051, 2089-208914-5...</td>\n",
       "    </tr>\n",
       "    <tr>\n",
       "      <th>1</th>\n",
       "      <td>2013-01-30</td>\n",
       "      <td>280</td>\n",
       "      <td>280 BOARD OF ESTIMATES  JANUARY 30, 2013 MINUT...</td>\n",
       "      <td>280 BOARD OF ESTIMATES JANUARY 30, 2013 MINUTE...</td>\n",
       "      <td>[9905-922004-9188-900000-709047, 4000-807513-6...</td>\n",
       "    </tr>\n",
       "    <tr>\n",
       "      <th>2</th>\n",
       "      <td>2013-08-14</td>\n",
       "      <td>3045</td>\n",
       "      <td>3045 BOARD OF ESTIMATES  August 14, 2013 MINUT...</td>\n",
       "      <td>3045 BOARD OF ESTIMATES August 14, 2013 MINUTE...</td>\n",
       "      <td>[2032-000000-1330-158400-605008, 2044-000000-1...</td>\n",
       "    </tr>\n",
       "    <tr>\n",
       "      <th>3</th>\n",
       "      <td>2013-08-28</td>\n",
       "      <td>3346</td>\n",
       "      <td>3346 BOARD OF ESTIMATES  AUGUST 28, 2013 MINUT...</td>\n",
       "      <td>3346 BOARD OF ESTIMATES AUGUST 28, 2013 MINUTE...</td>\n",
       "      <td>[5000-598014-2252-688000-600000, 5000-598314-2...</td>\n",
       "    </tr>\n",
       "    <tr>\n",
       "      <th>4</th>\n",
       "      <td>2013-06-05</td>\n",
       "      <td>2018</td>\n",
       "      <td>2018 BOARD OF ESTIMATES  JUNE 05, 2013 MINUTES...</td>\n",
       "      <td>2018 BOARD OF ESTIMATES JUNE 05, 2013 MINUTES ...</td>\n",
       "      <td>[2036-000000-1752-175200-603070, 1001-000000-1...</td>\n",
       "    </tr>\n",
       "  </tbody>\n",
       "</table>\n",
       "</div>"
      ],
      "text/plain": [
       "         date page_number                                            minutes  \\\n",
       "0  2013-11-20        4680  4680  BOARD OF ESITMATES  November 20, 2013 MI...   \n",
       "1  2013-01-30         280  280 BOARD OF ESTIMATES  JANUARY 30, 2013 MINUT...   \n",
       "2  2013-08-14        3045  3045 BOARD OF ESTIMATES  August 14, 2013 MINUT...   \n",
       "3  2013-08-28        3346  3346 BOARD OF ESTIMATES  AUGUST 28, 2013 MINUT...   \n",
       "4  2013-06-05        2018  2018 BOARD OF ESTIMATES  JUNE 05, 2013 MINUTES...   \n",
       "\n",
       "                                                text  \\\n",
       "0  4680 BOARD OF ESITMATES November 20, 2013 MINU...   \n",
       "1  280 BOARD OF ESTIMATES JANUARY 30, 2013 MINUTE...   \n",
       "2  3045 BOARD OF ESTIMATES August 14, 2013 MINUTE...   \n",
       "3  3346 BOARD OF ESTIMATES AUGUST 28, 2013 MINUTE...   \n",
       "4  2018 BOARD OF ESTIMATES JUNE 05, 2013 MINUTES ...   \n",
       "\n",
       "                                            accounts  \n",
       "0  [4000-496313-3573-591219-603051, 2089-208914-5...  \n",
       "1  [9905-922004-9188-900000-709047, 4000-807513-6...  \n",
       "2  [2032-000000-1330-158400-605008, 2044-000000-1...  \n",
       "3  [5000-598014-2252-688000-600000, 5000-598314-2...  \n",
       "4  [2036-000000-1752-175200-603070, 1001-000000-1...  "
      ]
     },
     "execution_count": 85,
     "metadata": {},
     "output_type": "execute_result"
    }
   ],
   "source": [
    "def find_all_accounts(row):\n",
    "    account_lookup = r\"\\d{4}-\\d{6}-\\d{4}-\\d{6}-\\d{6}\"\n",
    "    meeting_date = row['date']\n",
    "    list_of_accounts = list(re.findall(re.compile(account_lookup), row['text']))\n",
    "    return list_of_accounts\n",
    "    \n",
    "\n",
    "text_df['accounts'] = text_df.apply(find_all_accounts, axis=1)\n",
    "text_df.head()"
   ]
  },
  {
   "cell_type": "markdown",
   "metadata": {},
   "source": [
    "### Unnest account numbers\n",
    "This takes all the account numbers that were stored together in a list and makes each one its own row."
   ]
  },
  {
   "cell_type": "code",
   "execution_count": 86,
   "metadata": {},
   "outputs": [
    {
     "data": {
      "text/html": [
       "<div>\n",
       "<style scoped>\n",
       "    .dataframe tbody tr th:only-of-type {\n",
       "        vertical-align: middle;\n",
       "    }\n",
       "\n",
       "    .dataframe tbody tr th {\n",
       "        vertical-align: top;\n",
       "    }\n",
       "\n",
       "    .dataframe thead th {\n",
       "        text-align: right;\n",
       "    }\n",
       "</style>\n",
       "<table border=\"1\" class=\"dataframe\">\n",
       "  <thead>\n",
       "    <tr style=\"text-align: right;\">\n",
       "      <th></th>\n",
       "      <th>accounts</th>\n",
       "      <th>date</th>\n",
       "      <th>page_number</th>\n",
       "      <th>minutes</th>\n",
       "      <th>text</th>\n",
       "    </tr>\n",
       "  </thead>\n",
       "  <tbody>\n",
       "    <tr>\n",
       "      <th>0</th>\n",
       "      <td>4000-496313-3573-591219-603051</td>\n",
       "      <td>2013-11-20</td>\n",
       "      <td>4680</td>\n",
       "      <td>4680  BOARD OF ESITMATES  November 20, 2013 MI...</td>\n",
       "      <td>4680 BOARD OF ESITMATES November 20, 2013 MINU...</td>\n",
       "    </tr>\n",
       "    <tr>\n",
       "      <th>0</th>\n",
       "      <td>2089-208914-5930-437923-603051</td>\n",
       "      <td>2013-11-20</td>\n",
       "      <td>4680</td>\n",
       "      <td>4680  BOARD OF ESITMATES  November 20, 2013 MI...</td>\n",
       "      <td>4680 BOARD OF ESITMATES November 20, 2013 MINU...</td>\n",
       "    </tr>\n",
       "    <tr>\n",
       "      <th>0</th>\n",
       "      <td>2089-208914-5930-426526-603051</td>\n",
       "      <td>2013-11-20</td>\n",
       "      <td>4680</td>\n",
       "      <td>4680  BOARD OF ESITMATES  November 20, 2013 MI...</td>\n",
       "      <td>4680 BOARD OF ESITMATES November 20, 2013 MINU...</td>\n",
       "    </tr>\n",
       "  </tbody>\n",
       "</table>\n",
       "</div>"
      ],
      "text/plain": [
       "                         accounts        date page_number  \\\n",
       "0  4000-496313-3573-591219-603051  2013-11-20        4680   \n",
       "0  2089-208914-5930-437923-603051  2013-11-20        4680   \n",
       "0  2089-208914-5930-426526-603051  2013-11-20        4680   \n",
       "\n",
       "                                             minutes  \\\n",
       "0  4680  BOARD OF ESITMATES  November 20, 2013 MI...   \n",
       "0  4680  BOARD OF ESITMATES  November 20, 2013 MI...   \n",
       "0  4680  BOARD OF ESITMATES  November 20, 2013 MI...   \n",
       "\n",
       "                                                text  \n",
       "0  4680 BOARD OF ESITMATES November 20, 2013 MINU...  \n",
       "0  4680 BOARD OF ESITMATES November 20, 2013 MINU...  \n",
       "0  4680 BOARD OF ESITMATES November 20, 2013 MINU...  "
      ]
     },
     "execution_count": 86,
     "metadata": {},
     "output_type": "execute_result"
    }
   ],
   "source": [
    "def unnesting(df, explode):\n",
    "    idx = df.index.repeat(df[explode[0]].str.len())\n",
    "    df1 = pd.concat(\n",
    "        [pd.DataFrame({x: np.concatenate(df[x].values)}) for x in explode], axis=1\n",
    "    )\n",
    "    df1.index = idx\n",
    "    return df1.join(df.drop(explode, 1), how=\"left\")\n",
    "\n",
    "        \n",
    "accounts_df = unnesting(text_df,['accounts'])\n",
    "\n",
    "accounts_df.head(3)"
   ]
  },
  {
   "cell_type": "markdown",
   "metadata": {},
   "source": [
    "### Count the account numbers mentioned per year\n",
    "Not sure if this is the right approach to dropping duplicate account numbers, but for now I'm dropping anything where the same account is mentioned in the same meeting."
   ]
  },
  {
   "cell_type": "code",
   "execution_count": 70,
   "metadata": {},
   "outputs": [
    {
     "data": {
      "text/html": [
       "<div>\n",
       "<style scoped>\n",
       "    .dataframe tbody tr th:only-of-type {\n",
       "        vertical-align: middle;\n",
       "    }\n",
       "\n",
       "    .dataframe tbody tr th {\n",
       "        vertical-align: top;\n",
       "    }\n",
       "\n",
       "    .dataframe thead th {\n",
       "        text-align: right;\n",
       "    }\n",
       "</style>\n",
       "<table border=\"1\" class=\"dataframe\">\n",
       "  <thead>\n",
       "    <tr style=\"text-align: right;\">\n",
       "      <th></th>\n",
       "      <th>fiscal_year</th>\n",
       "      <th>accounts</th>\n",
       "    </tr>\n",
       "  </thead>\n",
       "  <tbody>\n",
       "    <tr>\n",
       "      <th>0</th>\n",
       "      <td>2010</td>\n",
       "      <td>1669</td>\n",
       "    </tr>\n",
       "    <tr>\n",
       "      <th>1</th>\n",
       "      <td>2011</td>\n",
       "      <td>1515</td>\n",
       "    </tr>\n",
       "    <tr>\n",
       "      <th>2</th>\n",
       "      <td>2012</td>\n",
       "      <td>1486</td>\n",
       "    </tr>\n",
       "    <tr>\n",
       "      <th>3</th>\n",
       "      <td>2013</td>\n",
       "      <td>1509</td>\n",
       "    </tr>\n",
       "    <tr>\n",
       "      <th>4</th>\n",
       "      <td>2014</td>\n",
       "      <td>1182</td>\n",
       "    </tr>\n",
       "  </tbody>\n",
       "</table>\n",
       "</div>"
      ],
      "text/plain": [
       "   fiscal_year  accounts\n",
       "0         2010      1669\n",
       "1         2011      1515\n",
       "2         2012      1486\n",
       "3         2013      1509\n",
       "4         2014      1182"
      ]
     },
     "execution_count": 70,
     "metadata": {},
     "output_type": "execute_result"
    }
   ],
   "source": [
    "accounts_df = accounts_df.drop_duplicates(subset=['fiscal_year', 'accounts'], keep='last')\n",
    "\n",
    "cond_1 = accounts_df['fiscal_year'] > 2009\n",
    "cond_2 = accounts_df['fiscal_year'] < 2021\n",
    "accounts_df = accounts_df[cond_1 & cond_2]\n",
    "accounts_per_year = accounts_df.groupby('fiscal_year')['accounts'].count().reset_index()\n",
    "\n",
    "accounts_per_year.head()"
   ]
  },
  {
   "cell_type": "markdown",
   "metadata": {},
   "source": [
    "### Hmm. That's weird.\n",
    "Looks like accounts dropped off quickly in 2015."
   ]
  },
  {
   "cell_type": "code",
   "execution_count": 75,
   "metadata": {},
   "outputs": [
    {
     "data": {
      "image/png": "[encoded data removed]",
      "text/plain": [
       "<Figure size 864x432 with 1 Axes>"
      ]
     },
     "metadata": {
      "needs_background": "light"
     },
     "output_type": "display_data"
    }
   ],
   "source": [
    "plt.figure(figsize=(12,6))\n",
    "ax = sns.lineplot(x='fiscal_year', y='accounts', data=accounts_per_year)\n",
    "\n",
    "ax.set(title=\"Unique Account Numbers Per Year\", ylabel=\"Account Numbers\", xlabel=\"Fiscal Year\", ylim=(0, 2200))\n",
    "ax.xaxis.set_major_locator(ticker.MultipleLocator(1))\n",
    "sns.despine()"
   ]
  },
  {
   "cell_type": "code",
   "execution_count": 20,
   "metadata": {},
   "outputs": [],
   "source": [
    "#^.+?(?=(\\s–|-\\s).*Agreements)\n",
    "# department_lookup = r\"^.+?(?=–|-.*Agreements)\"\n",
    "# department_lookup = r\"(?<=MINUTES).+?(?=(\\s–|-\\s).*)\"\n",
    "# department_lookup = r\"(?<=MINUTES).+(?=(\\s-\\s))\""
   ]
  }
 ],
 "metadata": {
  "kernelspec": {
   "display_name": "Python 3",
   "language": "python",
   "name": "python3"
  },
  "language_info": {
   "codemirror_mode": {
    "name": "ipython",
    "version": 3
   },
   "file_extension": ".py",
   "mimetype": "text/x-python",
   "name": "python",
   "nbconvert_exporter": "python",
   "pygments_lexer": "ipython3",
   "version": "3.7.7"
  },
  "toc": {
   "base_numbering": 1,
   "nav_menu": {},
   "number_sections": true,
   "sideBar": true,
   "skip_h1_title": true,
   "title_cell": "Table of Contents",
   "title_sidebar": "Contents",
   "toc_cell": false,
   "toc_position": {
    "height": "calc(100% - 180px)",
    "left": "10px",
    "top": "150px",
    "width": "239.549px"
   },
   "toc_section_display": true,
   "toc_window_display": true
  }
 },
 "nbformat": 4,
 "nbformat_minor": 4
}
