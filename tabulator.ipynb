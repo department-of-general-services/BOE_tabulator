{
 "cells": [
  {
   "cell_type": "markdown",
   "metadata": {},
   "source": [
    "# Board of Estimates Tabulator  \n",
    "The purpose of this software tool is to use the pdf files that store the minutes of Baltimore's Board of Estimates to create a small database with linked tables for entities that could possibly include:\n",
    "\n",
    "- __meetings__\n",
    "    - one entity per BoE meeting\n",
    "    - primary key is the date\n",
    "- __agreements__\n",
    "    - primary key is BAN plus the partner organization's name\n",
    "    - features include: date, dollar amount, BAN, description\n",
    "- __prequalifications__\n",
    "- __contractors__ \n",
    "- __personnel__\n",
    "- __reclassifications__"
   ]
  },
  {
   "cell_type": "markdown",
   "metadata": {},
   "source": [
    "## Setup\n",
    "### Import packages  \n",
    "**We may want to break visualization code into a separate notebook"
   ]
  },
  {
   "cell_type": "code",
   "execution_count": 1,
   "metadata": {},
   "outputs": [],
   "source": [
    "from datetime import datetime\n",
    "import pandas as pd\n",
    "import requests\n",
    "from bs4 import BeautifulSoup\n",
    "import re\n",
    "from pathlib import Path\n",
    "import time \n",
    "import seaborn as sns\n",
    "import numpy as np\n",
    "from matplotlib import pyplot as plt\n",
    "\n",
    "from utils import *\n",
    "from bike_rack.parse_utils import parse_pdf\n",
    "\n",
    "from pandas.plotting import register_matplotlib_converters\n",
    "register_matplotlib_converters() "
   ]
  },
  {
   "cell_type": "markdown",
   "metadata": {},
   "source": [
    "### Define directories and urls\n",
    "We'll also create the `pdf_files` directory if it doesn't exist already."
   ]
  },
  {
   "cell_type": "code",
   "execution_count": 2,
   "metadata": {},
   "outputs": [
    {
     "name": "stdout",
     "output_type": "stream",
     "text": [
      "The pdf directory already exists.\n"
     ]
    }
   ],
   "source": [
    "base_url = \"https://comptroller.baltimorecity.gov/\"\n",
    "minutes_url = base_url + \"boe/meetings/minutes\"\n",
    "\n",
    "root = Path.cwd()\n",
    "pdf_dir = root / \"pdf_files\"\n",
    "\n",
    "try:\n",
    "    pdf_dir.mkdir(parents=True, exist_ok=False)\n",
    "except FileExistsError:\n",
    "    print(\"The pdf directory already exists.\")\n",
    "else:\n",
    "    print(\"The pdf directory has been created.\")"
   ]
  },
  {
   "cell_type": "markdown",
   "metadata": {},
   "source": [
    "### Store PDFs to local directory  \n",
    "The following code downloads all the .pdf files with minutes from the Board of Estimates and saves them in your local version of this repository. \n",
    "\n",
    "The code will skip this time-consuming step if it detects files within the `pdf_files` directory.\n",
    "\n",
    "The tricky part of this is getting a correct date for every file. Some files have a typo somewhere in html, so the functions `store_boe_pdfs()` and  `parse_long_dates()` are built to handle these errors. We may see new types of errors appear in the future, however."
   ]
  },
  {
   "cell_type": "code",
   "execution_count": 3,
   "metadata": {},
   "outputs": [
    {
     "name": "stdout",
     "output_type": "stream",
     "text": [
      "Files already exist in the pdf directory.\n"
     ]
    }
   ],
   "source": [
    "# set to true if you'll be repeatedly running store_boe_pdfs()\n",
    "testing_mode = False\n",
    "\n",
    "if testing_mode:\n",
    "    if pdf_dir:\n",
    "        del_dir_contents(pdf_dir)\n",
    "if is_empty(pdf_dir):\n",
    "    store_boe_pdfs(base_url, minutes_url)\n",
    "else: \n",
    "    print(\"Files already exist in the pdf directory.\")"
   ]
  },
  {
   "cell_type": "markdown",
   "metadata": {},
   "source": [
    "## Process and prepare sample data\n",
    "### Parse only a few sample pdfs\n",
    "While we're still in development mode, we can save some time by only parsing a few pdfs instead of all 500+ "
   ]
  },
  {
   "cell_type": "code",
   "execution_count": 4,
   "metadata": {},
   "outputs": [
    {
     "name": "stdout",
     "output_type": "stream",
     "text": [
      "4680 BOARD OF ESITMATES November 20, 2013 MINUTES REGULAR MEETING Honorable Bernard C. \"Jack\" Young, President Honorable Stephanie Rawlings-Blake, Mayor - ABSENT Harry Black, Director of Finance Honorable Joan M. Pratt, Comptroller and Secretary George A. Nilson, City Solicitor Alfred H. Foxx, Director of Public Works David E. Ralph, Deputy City Solicitor Rudolph S. Chow, Deputy Director of Public Works Bernice H. Taylor, Deputy Comptroller and Clerk Pursuant to Article VI, Section 1(c) of the r\n"
     ]
    }
   ],
   "source": [
    "# specifies the paths for a couple sample pdfs\n",
    "meeting1_path = Path(\"pdf_files/2013/2013_11_20.pdf\")\n",
    "meeting2_path = Path(\"pdf_files/2010/2010_03_17.pdf\")\n",
    "\n",
    "# uses parse_pdf() to instantiate the Minutes class for each meeting\n",
    "meeting1 = parse_pdf(meeting1_path)\n",
    "meeting2 = parse_pdf(meeting2_path)\n",
    "\n",
    "print(meeting1.clean_text[:500])"
   ]
  },
  {
   "cell_type": "markdown",
   "metadata": {},
   "source": [
    "## Process and prepare data\n",
    "### Create a Pandas dataframe with full texts  \n",
    "Now that we have the .pdf files we need, we're ready to read them and store their text in a Pandas dataframe. \n",
    "\n",
    "This should take about one minute for each year of data."
   ]
  },
  {
   "cell_type": "code",
   "execution_count": 5,
   "metadata": {
    "scrolled": true
   },
   "outputs": [
    {
     "name": "stdout",
     "output_type": "stream",
     "text": [
      "An error of type EOF marker not found occurred reading file /Users/james/Documents/Bmore/repos/BOE_tabulator/pdf_files/2013/2013_06_19.pdf\n",
      "An error of type EOF marker not found occurred reading file /Users/james/Documents/Bmore/repos/BOE_tabulator/pdf_files/2013/2013_06_26.pdf\n",
      "An error of type EOF marker not found occurred reading file /Users/james/Documents/Bmore/repos/BOE_tabulator/pdf_files/2015/2015_10_28.pdf\n",
      "An error of type EOF marker not found occurred reading file /Users/james/Documents/Bmore/repos/BOE_tabulator/pdf_files/2011/2011_04_27.pdf\n",
      "Wrote 527 rows to the table of minutes.\n"
     ]
    }
   ],
   "source": [
    "text_df_raw = store_pdf_text_to_df(pdf_dir)"
   ]
  },
  {
   "cell_type": "markdown",
   "metadata": {},
   "source": [
    "### View a sample of the stored text"
   ]
  },
  {
   "cell_type": "code",
   "execution_count": 182,
   "metadata": {},
   "outputs": [
    {
     "data": {
      "text/html": [
       "<div>\n",
       "<style scoped>\n",
       "    .dataframe tbody tr th:only-of-type {\n",
       "        vertical-align: middle;\n",
       "    }\n",
       "\n",
       "    .dataframe tbody tr th {\n",
       "        vertical-align: top;\n",
       "    }\n",
       "\n",
       "    .dataframe thead th {\n",
       "        text-align: right;\n",
       "    }\n",
       "</style>\n",
       "<table border=\"1\" class=\"dataframe\">\n",
       "  <thead>\n",
       "    <tr style=\"text-align: right;\">\n",
       "      <th></th>\n",
       "      <th>date</th>\n",
       "      <th>page_number</th>\n",
       "      <th>minutes</th>\n",
       "    </tr>\n",
       "  </thead>\n",
       "  <tbody>\n",
       "    <tr>\n",
       "      <th>376</th>\n",
       "      <td>2020-10-14</td>\n",
       "      <td>3960</td>\n",
       "      <td>3960\\n \\nBOARD OF ESTIMATES\\n \\n \\nOCTOBER 14,...</td>\n",
       "    </tr>\n",
       "    <tr>\n",
       "      <th>289</th>\n",
       "      <td>2010-07-14</td>\n",
       "      <td>2341</td>\n",
       "      <td>2341  BOARD OF ESTIMATES                      ...</td>\n",
       "    </tr>\n",
       "    <tr>\n",
       "      <th>315</th>\n",
       "      <td>2019-02-06</td>\n",
       "      <td>584</td>\n",
       "      <td>584\\n \\nBOARD OF \\nESTIMATES\\n \\nFEBRUARY 06, ...</td>\n",
       "    </tr>\n",
       "    <tr>\n",
       "      <th>0</th>\n",
       "      <td>2013-11-20</td>\n",
       "      <td>4680</td>\n",
       "      <td>4680  BOARD OF ESITMATES  November 20, 2013 MI...</td>\n",
       "    </tr>\n",
       "    <tr>\n",
       "      <th>285</th>\n",
       "      <td>2010-09-29</td>\n",
       "      <td>3357</td>\n",
       "      <td>3357  BOARD OF ESTIMATES                      ...</td>\n",
       "    </tr>\n",
       "    <tr>\n",
       "      <th>187</th>\n",
       "      <td>2009-08-19</td>\n",
       "      <td>3094</td>\n",
       "      <td>3094  BOARD OF ESTIMATES                      ...</td>\n",
       "    </tr>\n",
       "  </tbody>\n",
       "</table>\n",
       "</div>"
      ],
      "text/plain": [
       "           date page_number                                            minutes\n",
       "376  2020-10-14        3960  3960\\n \\nBOARD OF ESTIMATES\\n \\n \\nOCTOBER 14,...\n",
       "289  2010-07-14        2341  2341  BOARD OF ESTIMATES                      ...\n",
       "315  2019-02-06         584  584\\n \\nBOARD OF \\nESTIMATES\\n \\nFEBRUARY 06, ...\n",
       "0    2013-11-20        4680  4680  BOARD OF ESITMATES  November 20, 2013 MI...\n",
       "285  2010-09-29        3357  3357  BOARD OF ESTIMATES                      ...\n",
       "187  2009-08-19        3094  3094  BOARD OF ESTIMATES                      ..."
      ]
     },
     "execution_count": 182,
     "metadata": {},
     "output_type": "execute_result"
    }
   ],
   "source": [
    "text_df_raw.sample(6, random_state=444)"
   ]
  },
  {
   "cell_type": "markdown",
   "metadata": {},
   "source": [
    "### Replace erroneous characters and consolidate white spaces\n",
    "Not sure if decision to transform all multiple white spaces to a single white space will work for the long term because we may need to use multiple spaces to detect certain fields.\n",
    "\n",
    "I hope we won't need to do that, though. Currently we're consolidating all multiple white spaces into just one white space."
   ]
  },
  {
   "cell_type": "code",
   "execution_count": 183,
   "metadata": {},
   "outputs": [],
   "source": [
    "def replace_chars(text):\n",
    "    replacements = [\n",
    "        # (\"\\n\", \"\"),\n",
    "        (\"Œ\", \"-\"),\n",
    "        (\"ﬁ\", '\"'),\n",
    "        (\"ﬂ\", '\"'),\n",
    "        (\"™\", \"'\"),\n",
    "        (\"Ł\", \"•\"),\n",
    "        (\"Š\", \"-\"),\n",
    "        (\"€\", \" \"),\n",
    "        (\"¬\", \"-\"),\n",
    "        (\"–\", \"…\"),\n",
    "        (\"Ž\", \"™\"),\n",
    "        (\"˚\", \"fl\"),\n",
    "        (\"˜\", \"fi\"),\n",
    "        (\"˛\", \"ff\"),\n",
    "        (\"˝\", \"ffi\"),\n",
    "        (\"š\", \"—\"),\n",
    "        (\"ü\", \"ti\"),\n",
    "        (\"î\", \"í\"),\n",
    "        (\"è\", \"c\"),\n",
    "        (\"ë\", \"e\"),\n",
    "        (\"Ð\", \"–\"),\n",
    "        (\"Ò\", '\"'),\n",
    "        (\"Ó\", '\"'),\n",
    "        (\"Õ\", \"'\"),\n",
    "    ]\n",
    "    for i in replacements:\n",
    "        text = text.replace(i[0], i[1])\n",
    "    return text\n",
    "\n",
    "\n",
    "text_df = text_df_raw.copy()\n",
    "\n",
    "text_df[\"text\"] = text_df[\"minutes\"].apply(replace_chars)"
   ]
  },
  {
   "cell_type": "code",
   "execution_count": 184,
   "metadata": {},
   "outputs": [
    {
     "name": "stdout",
     "output_type": "stream",
     "text": [
      "4680  BOARD OF ESITMATES  November 20, 2013 MINUTES  REGULAR MEETING  Honorable Bernard C. \"Jack\" Young, President Honorable Stephanie Rawlings-Blake, Mayor - ABSENT Harry Black, Director of Finance Honorable Joan M. Pratt, Comptroller and Secretary George A. Nilson, City Solicitor \n",
      "Alfred H. Foxx, Director of Public Works David E. Ralph, Deputy City Solicitor Rudolph S. Chow, Deputy Director of Public Works \n",
      "Bernice H. Taylor, Deputy Comptroller and Clerk \n",
      "  Pursuant to Article VI, Section 1(c)\n"
     ]
    }
   ],
   "source": [
    "# view a sample of the transformed text\n",
    "print(text_df['text'][0][0:500])"
   ]
  },
  {
   "cell_type": "code",
   "execution_count": 185,
   "metadata": {},
   "outputs": [
    {
     "data": {
      "text/html": [
       "<div>\n",
       "<style scoped>\n",
       "    .dataframe tbody tr th:only-of-type {\n",
       "        vertical-align: middle;\n",
       "    }\n",
       "\n",
       "    .dataframe tbody tr th {\n",
       "        vertical-align: top;\n",
       "    }\n",
       "\n",
       "    .dataframe thead th {\n",
       "        text-align: right;\n",
       "    }\n",
       "</style>\n",
       "<table border=\"1\" class=\"dataframe\">\n",
       "  <thead>\n",
       "    <tr style=\"text-align: right;\">\n",
       "      <th></th>\n",
       "      <th>date</th>\n",
       "      <th>page_number</th>\n",
       "      <th>minutes</th>\n",
       "      <th>text</th>\n",
       "      <th>calendar_year</th>\n",
       "      <th>month</th>\n",
       "      <th>fiscal_year</th>\n",
       "    </tr>\n",
       "  </thead>\n",
       "  <tbody>\n",
       "    <tr>\n",
       "      <th>0</th>\n",
       "      <td>2013-11-20</td>\n",
       "      <td>4680</td>\n",
       "      <td>4680  BOARD OF ESITMATES  November 20, 2013 MI...</td>\n",
       "      <td>4680  BOARD OF ESITMATES  November 20, 2013 MI...</td>\n",
       "      <td>2013</td>\n",
       "      <td>11</td>\n",
       "      <td>2014</td>\n",
       "    </tr>\n",
       "    <tr>\n",
       "      <th>1</th>\n",
       "      <td>2013-03-20</td>\n",
       "      <td>837</td>\n",
       "      <td>837 BOARD OF ESTIMATES  March 20, 2013 MINUTES...</td>\n",
       "      <td>837 BOARD OF ESTIMATES  March 20, 2013 MINUTES...</td>\n",
       "      <td>2013</td>\n",
       "      <td>3</td>\n",
       "      <td>2013</td>\n",
       "    </tr>\n",
       "    <tr>\n",
       "      <th>2</th>\n",
       "      <td>2013-01-30</td>\n",
       "      <td>280</td>\n",
       "      <td>280 BOARD OF ESTIMATES  JANUARY 30, 2013 MINUT...</td>\n",
       "      <td>280 BOARD OF ESTIMATES  JANUARY 30, 2013 MINUT...</td>\n",
       "      <td>2013</td>\n",
       "      <td>1</td>\n",
       "      <td>2013</td>\n",
       "    </tr>\n",
       "  </tbody>\n",
       "</table>\n",
       "</div>"
      ],
      "text/plain": [
       "        date page_number                                            minutes  \\\n",
       "0 2013-11-20        4680  4680  BOARD OF ESITMATES  November 20, 2013 MI...   \n",
       "1 2013-03-20         837  837 BOARD OF ESTIMATES  March 20, 2013 MINUTES...   \n",
       "2 2013-01-30         280  280 BOARD OF ESTIMATES  JANUARY 30, 2013 MINUT...   \n",
       "\n",
       "                                                text  calendar_year  month  \\\n",
       "0  4680  BOARD OF ESITMATES  November 20, 2013 MI...           2013     11   \n",
       "1  837 BOARD OF ESTIMATES  March 20, 2013 MINUTES...           2013      3   \n",
       "2  280 BOARD OF ESTIMATES  JANUARY 30, 2013 MINUT...           2013      1   \n",
       "\n",
       "   fiscal_year  \n",
       "0         2014  \n",
       "1         2013  \n",
       "2         2013  "
      ]
     },
     "execution_count": 185,
     "metadata": {},
     "output_type": "execute_result"
    }
   ],
   "source": [
    "def add_fiscal_year(df):\n",
    "    df = df.copy()\n",
    "    df[\"calendar_year\"] = df[\"date\"].dt.year\n",
    "    df[\"month\"] = df[\"date\"].dt.month\n",
    "    c = pd.to_numeric(df[\"calendar_year\"])\n",
    "    df[\"fiscal_year\"] = np.where(df[\"month\"] >= 7, c + 1, c)\n",
    "    df[\"fiscal_year\"] = (pd.to_datetime(df[\"fiscal_year\"], format=\"%Y\")).dt.year\n",
    "    return df\n",
    "\n",
    "text_df['date'] = pd.to_datetime(text_df['date'])\n",
    "text_df = add_fiscal_year(text_df)\n",
    "\n",
    "text_df.head(3)"
   ]
  },
  {
   "cell_type": "markdown",
   "metadata": {},
   "source": [
    "### Store the date of meeting as the index"
   ]
  },
  {
   "cell_type": "code",
   "execution_count": 187,
   "metadata": {},
   "outputs": [
    {
     "data": {
      "text/html": [
       "<div>\n",
       "<style scoped>\n",
       "    .dataframe tbody tr th:only-of-type {\n",
       "        vertical-align: middle;\n",
       "    }\n",
       "\n",
       "    .dataframe tbody tr th {\n",
       "        vertical-align: top;\n",
       "    }\n",
       "\n",
       "    .dataframe thead th {\n",
       "        text-align: right;\n",
       "    }\n",
       "</style>\n",
       "<table border=\"1\" class=\"dataframe\">\n",
       "  <thead>\n",
       "    <tr style=\"text-align: right;\">\n",
       "      <th></th>\n",
       "      <th>date</th>\n",
       "      <th>page_number</th>\n",
       "      <th>minutes</th>\n",
       "      <th>text</th>\n",
       "      <th>calendar_year</th>\n",
       "      <th>month</th>\n",
       "      <th>fiscal_year</th>\n",
       "      <th>word_count</th>\n",
       "    </tr>\n",
       "    <tr>\n",
       "      <th>date</th>\n",
       "      <th></th>\n",
       "      <th></th>\n",
       "      <th></th>\n",
       "      <th></th>\n",
       "      <th></th>\n",
       "      <th></th>\n",
       "      <th></th>\n",
       "      <th></th>\n",
       "    </tr>\n",
       "  </thead>\n",
       "  <tbody>\n",
       "    <tr>\n",
       "      <th>2011-03-16</th>\n",
       "      <td>2011-03-16</td>\n",
       "      <td>741</td>\n",
       "      <td>741  BOARD OF ESTIMATES                       ...</td>\n",
       "      <td>741  BOARD OF ESTIMATES                       ...</td>\n",
       "      <td>2011</td>\n",
       "      <td>3</td>\n",
       "      <td>2011</td>\n",
       "      <td>13379</td>\n",
       "    </tr>\n",
       "    <tr>\n",
       "      <th>2017-02-08</th>\n",
       "      <td>2017-02-08</td>\n",
       "      <td>383</td>\n",
       "      <td>383\\n \\nBOARD OF ESTIMATES\\n \\nFEBRUARY 08, 20...</td>\n",
       "      <td>383\\n \\nBOARD OF ESTIMATES\\n \\nFEBRUARY 08, 20...</td>\n",
       "      <td>2017</td>\n",
       "      <td>2</td>\n",
       "      <td>2017</td>\n",
       "      <td>13468</td>\n",
       "    </tr>\n",
       "    <tr>\n",
       "      <th>2010-06-09</th>\n",
       "      <td>2010-06-09</td>\n",
       "      <td>1767</td>\n",
       "      <td>1767 BOARD OF ESTIMATES                       ...</td>\n",
       "      <td>1767 BOARD OF ESTIMATES                       ...</td>\n",
       "      <td>2010</td>\n",
       "      <td>6</td>\n",
       "      <td>2010</td>\n",
       "      <td>23276</td>\n",
       "    </tr>\n",
       "  </tbody>\n",
       "</table>\n",
       "</div>"
      ],
      "text/plain": [
       "                 date page_number  \\\n",
       "date                                \n",
       "2011-03-16 2011-03-16         741   \n",
       "2017-02-08 2017-02-08         383   \n",
       "2010-06-09 2010-06-09        1767   \n",
       "\n",
       "                                                      minutes  \\\n",
       "date                                                            \n",
       "2011-03-16  741  BOARD OF ESTIMATES                       ...   \n",
       "2017-02-08  383\\n \\nBOARD OF ESTIMATES\\n \\nFEBRUARY 08, 20...   \n",
       "2010-06-09  1767 BOARD OF ESTIMATES                       ...   \n",
       "\n",
       "                                                         text  calendar_year  \\\n",
       "date                                                                           \n",
       "2011-03-16  741  BOARD OF ESTIMATES                       ...           2011   \n",
       "2017-02-08  383\\n \\nBOARD OF ESTIMATES\\n \\nFEBRUARY 08, 20...           2017   \n",
       "2010-06-09  1767 BOARD OF ESTIMATES                       ...           2010   \n",
       "\n",
       "            month  fiscal_year  word_count  \n",
       "date                                        \n",
       "2011-03-16      3         2011       13379  \n",
       "2017-02-08      2         2017       13468  \n",
       "2010-06-09      6         2010       23276  "
      ]
     },
     "execution_count": 187,
     "metadata": {},
     "output_type": "execute_result"
    }
   ],
   "source": [
    "text_df = text_df.set_index('date', drop=False)\n",
    "text_df['word_count'] = text_df['text'].apply(lambda x: len(x.split()))\n",
    "\n",
    "text_df.sample(3)"
   ]
  },
  {
   "cell_type": "markdown",
   "metadata": {},
   "source": [
    "## Test consistency of the pdfs\n",
    "Let's see how consistent our pdf documents are. Our first test will be to see if the document contains the string \"REGULAR MEETING\", which in most cases comprises the first words of the document below the header. "
   ]
  },
  {
   "cell_type": "code",
   "execution_count": 113,
   "metadata": {},
   "outputs": [
    {
     "name": "stdout",
     "output_type": "stream",
     "text": [
      "Exactly 508 pdf files contain the string 'REGULAR MEETING', \n",
      "and exactly 14 contain the string 'SPECIAL MEETING'\n"
     ]
    }
   ],
   "source": [
    "test_df = text_df.copy()\n",
    "\n",
    "def test_a(row):\n",
    "    reg_meeting_regex = r\"\\bREGULAR\\sMEETING\\b\"\n",
    "    reg_match = re.search(reg_meeting_regex, row[\"text\"])\n",
    "    special_meeting_regex = r\"\\bSPECIAL\\sMEETING\\b\"\n",
    "    special_match = re.search(special_meeting_regex, row[\"text\"])\n",
    "    row[\"has_regular_meeting\"] = reg_match != None\n",
    "    row[\"has_special_meeting\"] = special_match != None\n",
    "    return row\n",
    "\n",
    "\n",
    "match_df = test_df.apply(test_a, axis=1)\n",
    "print(f\"Exactly {sum(match_df['has_regular_meeting'])} pdf files contain the string 'REGULAR MEETING', \\nand exactly {sum(match_df['has_special_meeting'])} contain the string 'SPECIAL MEETING'\")"
   ]
  },
  {
   "cell_type": "markdown",
   "metadata": {},
   "source": [
    "We see that most but not all of the pdfs have the string \"REGULAR MEETING\". The 20 files that fail this test include 11 files that were special meetings. The remainder include some malformed pdfs as well as a few pdfs that appear to simply be missing "
   ]
  },
  {
   "cell_type": "markdown",
   "metadata": {},
   "source": [
    "### Separate out the regular meetings"
   ]
  },
  {
   "cell_type": "code",
   "execution_count": 110,
   "metadata": {},
   "outputs": [
    {
     "name": "stdout",
     "output_type": "stream",
     "text": [
      "507\n"
     ]
    }
   ],
   "source": [
    "cond_reg = match_df[\"has_regular_meeting\"] == 1\n",
    "cond_spec = match_df[\"has_special_meeting\"] == 1\n",
    "reg_meetings = match_df[cond_reg & ~cond_spec]\n",
    "print(f\"{len(reg_meetings)}\")"
   ]
  },
  {
   "cell_type": "code",
   "execution_count": 112,
   "metadata": {},
   "outputs": [
    {
     "data": {
      "text/html": [
       "<div>\n",
       "<style scoped>\n",
       "    .dataframe tbody tr th:only-of-type {\n",
       "        vertical-align: middle;\n",
       "    }\n",
       "\n",
       "    .dataframe tbody tr th {\n",
       "        vertical-align: top;\n",
       "    }\n",
       "\n",
       "    .dataframe thead th {\n",
       "        text-align: right;\n",
       "    }\n",
       "</style>\n",
       "<table border=\"1\" class=\"dataframe\">\n",
       "  <thead>\n",
       "    <tr style=\"text-align: right;\">\n",
       "      <th></th>\n",
       "      <th>date</th>\n",
       "      <th>text</th>\n",
       "    </tr>\n",
       "    <tr>\n",
       "      <th>date</th>\n",
       "      <th></th>\n",
       "      <th></th>\n",
       "    </tr>\n",
       "  </thead>\n",
       "  <tbody>\n",
       "    <tr>\n",
       "      <th>2009-09-02</th>\n",
       "      <td>2009-09-02</td>\n",
       "      <td>3299  BOARD OF ESTIMATES                      ...</td>\n",
       "    </tr>\n",
       "    <tr>\n",
       "      <th>2015-11-18</th>\n",
       "      <td>2015-11-18</td>\n",
       "      <td>4161 BOARD OF ESTIMATES NOVEMBER 18, 2015 MINU...</td>\n",
       "    </tr>\n",
       "    <tr>\n",
       "      <th>2015-04-22</th>\n",
       "      <td>2015-04-22</td>\n",
       "      <td>1216 BOARD OF ESTIMATES APRIL 22, 2015  MINUTE...</td>\n",
       "    </tr>\n",
       "  </tbody>\n",
       "</table>\n",
       "</div>"
      ],
      "text/plain": [
       "                 date                                               text\n",
       "date                                                                    \n",
       "2009-09-02 2009-09-02  3299  BOARD OF ESTIMATES                      ...\n",
       "2015-11-18 2015-11-18  4161 BOARD OF ESTIMATES NOVEMBER 18, 2015 MINU...\n",
       "2015-04-22 2015-04-22  1216 BOARD OF ESTIMATES APRIL 22, 2015  MINUTE..."
      ]
     },
     "execution_count": 112,
     "metadata": {},
     "output_type": "execute_result"
    }
   ],
   "source": [
    "reg_meetings[['date', 'text']].sample(3)"
   ]
  },
  {
   "cell_type": "markdown",
   "metadata": {},
   "source": [
    "### Test the sequencing of the sections \"BOARDS AND COMMISSIONS\" and \"TRANSFERS OF FUNDS\"\n",
    "Based on looking at the .pdfs, I expect to see the sections in this order:\n",
    "\n",
    "1. REGULAR MEETING\n",
    "2. BOARDS AND COMMISSIONS\n",
    "3. TRANSFERS OF FUNDS\n",
    "\n",
    "Let's go ahead and test how confident we can be in the assumption that the sections exist and that they come in that order."
   ]
  },
  {
   "cell_type": "code",
   "execution_count": null,
   "metadata": {},
   "outputs": [],
   "source": [
    "def test_sections_exist(row):\n",
    "    regular_meeting = r\"^REGULAR\\w+MEETING$\"\n",
    "    \n",
    "reg_meetings.apply(test_sequence, axis=1)"
   ]
  },
  {
   "cell_type": "code",
   "execution_count": 161,
   "metadata": {},
   "outputs": [],
   "source": [
    "def test_sequence(row):\n",
    "    \"\"\" \n",
    "    Takes a row of the dataframe as an input and returns an augented row with information \n",
    "    about the order in which we see the section headings.\n",
    "    \"\"\"\n",
    "    boards_first = r\"(\\bBOARD\\w?\\sAND\\sCOMMISSION\\w?\\b).*(\\bTRANSFER\\w?\\sOF\\sFUND\\w?\\b)\"\n",
    "    transfers_first = r\"(\\bTRANSFER\\w?\\sOF\\sFUND\\w?\\b).*(\\bBOARD\\w?\\sAND\\sCOMMISSIONS\\b)\"\n",
    "    boards_first_match = re.search(boards_first, row[\"text\"])  \n",
    "    transfers_first_match = re.search(transfers_first, row[\"text\"])  \n",
    "    row[\"boards_before_transfers\"] = boards_first_match != None\n",
    "    row[\"transfers_before_boards\"] = transfers_first_match != None\n",
    "    return row\n",
    "\n",
    "seq_df = match_df = reg_meetings.apply(test_sequence, axis=1)"
   ]
  },
  {
   "cell_type": "markdown",
   "metadata": {},
   "source": [
    "It turns out that in the majority of cases we see the sequencing we expect. But in about 10% of the cases, the two sections are out of order. And then there are 11 documents that don't meet either condition — manual checks suggest that a typist simply forgot to name the section. "
   ]
  },
  {
   "cell_type": "code",
   "execution_count": 165,
   "metadata": {},
   "outputs": [
    {
     "name": "stdout",
     "output_type": "stream",
     "text": [
      "We find 490 .pdfs where BOARDS comes before TRANSFERS.\n",
      "We find 46 .pdfs where TRANSFERS comes before BOARDS.\n",
      "We find 11 sets of minutes that meet neither condition.\n"
     ]
    }
   ],
   "source": [
    "cond_boards_first = seq_df[\"boards_before_transfers\"] == 1\n",
    "cond_transfers_first = seq_df[\"transfers_before_boards\"] == 1\n",
    "irregulars = seq_df[~cond_boards_first & ~cond_transfers_first]\n",
    "\n",
    "print(f\"We find {sum(seq_df['boards_before_transfers'])} .pdfs where BOARDS comes before TRANSFERS.\")\n",
    "print(f\"We find {sum(seq_df['transfers_before_boards'])} .pdfs where TRANSFERS comes before BOARDS.\")\n",
    "print(f\"We find {len(irregulars)} sets of minutes that meet neither condition.\")"
   ]
  },
  {
   "cell_type": "code",
   "execution_count": 176,
   "metadata": {},
   "outputs": [],
   "source": [
    "def test_sequence_3(row):\n",
    "    \"\"\" \n",
    "    Takes a row of the dataframe as an input and returns an augented row with information \n",
    "    about the order in which we see the section headings.\n",
    "    \"\"\"\n",
    "    seq_3 = r\"(\\bOPTIONS\\/CONDEMNATION\\/QUICK-TAKES:)\"\n",
    "    #seq_3 = r\"(\\bBOARD\\w?\\sAND\\sCOMMISSION\\w?\\b).*(\\bTRANSFER\\w?\\sOF\\sFUND\\w?\\b).*(\\bOPTIONS/CONDEMNATION/QUICK-TAKES:\\b)\"\n",
    "    seq_3_match = re.search(seq_3, row[\"text\"])  \n",
    "    row[\"seq_3\"] = seq_3_match != None\n",
    "    return row\n",
    "\n",
    "seq_df = seq_df.apply(test_sequence_3, axis=1)"
   ]
  },
  {
   "cell_type": "code",
   "execution_count": 177,
   "metadata": {},
   "outputs": [
    {
     "data": {
      "text/plain": [
       "387"
      ]
     },
     "execution_count": 177,
     "metadata": {},
     "output_type": "execute_result"
    }
   ],
   "source": [
    "sum(seq_df['seq_3'])"
   ]
  },
  {
   "cell_type": "code",
   "execution_count": null,
   "metadata": {},
   "outputs": [],
   "source": []
  }
 ],
 "metadata": {
  "kernelspec": {
   "display_name": "Python 3",
   "language": "python",
   "name": "python3"
  },
  "language_info": {
   "codemirror_mode": {
    "name": "ipython",
    "version": 3
   },
   "file_extension": ".py",
   "mimetype": "text/x-python",
   "name": "python",
   "nbconvert_exporter": "python",
   "pygments_lexer": "ipython3",
   "version": "3.7.7"
  },
  "toc": {
   "base_numbering": 1,
   "nav_menu": {},
   "number_sections": true,
   "sideBar": true,
   "skip_h1_title": true,
   "title_cell": "Table of Contents",
   "title_sidebar": "Contents",
   "toc_cell": false,
   "toc_position": {
    "height": "calc(100% - 180px)",
    "left": "10px",
    "top": "150px",
    "width": "239.549px"
   },
   "toc_section_display": true,
   "toc_window_display": true
  }
 },
 "nbformat": 4,
 "nbformat_minor": 4
}
