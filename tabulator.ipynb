{
 "cells": [
  {
   "cell_type": "markdown",
   "metadata": {},
   "source": [
    "# Board of Estimates Tabulator  \n",
    "The purpose of this software tool is to use the pdf files that store the minutes of Baltimore's Board of Estimates to create a small database with linked tables for entities that could possibly include:\n",
    "\n",
    "- __meetings__\n",
    "    - one entity per BoE meeting\n",
    "    - primary key is the date\n",
    "- __agreements__\n",
    "    - primary key is BAN plus the partner organization's name\n",
    "    - features include: date, dollar amount, BAN, description\n",
    "- __prequalifications__\n",
    "- __contractors__ \n",
    "- __personnel__\n",
    "- __reclassifications__"
   ]
  },
  {
   "cell_type": "markdown",
   "metadata": {},
   "source": [
    "## Setup\n",
    "### Import packages  \n",
    "**We may want to break visualization code into a separate notebook"
   ]
  },
  {
   "cell_type": "code",
   "execution_count": 1,
   "metadata": {},
   "outputs": [],
   "source": [
    "from datetime import datetime\n",
    "import pandas as pd\n",
    "import requests\n",
    "from bs4 import BeautifulSoup\n",
    "import re\n",
    "from pathlib import Path\n",
    "import time \n",
    "import seaborn as sns\n",
    "import numpy as np\n",
    "from matplotlib import pyplot as plt\n",
    "\n",
    "from utils import *\n",
    "from bike_rack.parse_utils import parse_pdf\n",
    "\n",
    "from pandas.plotting import register_matplotlib_converters\n",
    "register_matplotlib_converters() "
   ]
  },
  {
   "cell_type": "markdown",
   "metadata": {},
   "source": [
    "### Define directories and urls\n",
    "We'll also create the `pdf_files` directory if it doesn't exist already."
   ]
  },
  {
   "cell_type": "code",
   "execution_count": 2,
   "metadata": {},
   "outputs": [
    {
     "name": "stdout",
     "output_type": "stream",
     "text": [
      "The pdf directory already exists.\n"
     ]
    }
   ],
   "source": [
    "base_url = \"https://comptroller.baltimorecity.gov/\"\n",
    "minutes_url = base_url + \"boe/meetings/minutes\"\n",
    "\n",
    "root = Path.cwd()\n",
    "pdf_dir = root / \"pdf_files\"\n",
    "\n",
    "try:\n",
    "    pdf_dir.mkdir(parents=True, exist_ok=False)\n",
    "except FileExistsError:\n",
    "    print(\"The pdf directory already exists.\")\n",
    "else:\n",
    "    print(\"The pdf directory has been created.\")"
   ]
  },
  {
   "cell_type": "markdown",
   "metadata": {},
   "source": [
    "### Store PDFs to local directory  \n",
    "The following code downloads all the .pdf files with minutes from the Board of Estimates and saves them in your local version of this repository. \n",
    "\n",
    "The code will skip this time-consuming step if it detects files within the `pdf_files` directory.\n",
    "\n",
    "The tricky part of this is getting a correct date for every file. Some files have a typo somewhere in html, so the functions `store_boe_pdfs()` and  `parse_long_dates()` are built to handle these errors. We may see new types of errors appear in the future, however."
   ]
  },
  {
   "cell_type": "code",
   "execution_count": 3,
   "metadata": {},
   "outputs": [
    {
     "name": "stdout",
     "output_type": "stream",
     "text": [
      "Files already exist in the pdf directory.\n"
     ]
    }
   ],
   "source": [
    "# set to true if you'll be repeatedly running store_boe_pdfs()\n",
    "testing_mode = False\n",
    "\n",
    "if testing_mode:\n",
    "    if pdf_dir:\n",
    "        del_dir_contents(pdf_dir)\n",
    "if is_empty(pdf_dir):\n",
    "    store_boe_pdfs(base_url, minutes_url)\n",
    "else: \n",
    "    print(\"Files already exist in the pdf directory.\")"
   ]
  },
  {
   "cell_type": "markdown",
   "metadata": {},
   "source": [
    "## Process and prepare sample data\n",
    "### Parse only a few sample pdfs\n",
    "While we're still in development mode, we can save some time by only parsing a few pdfs instead of all 500+ "
   ]
  },
  {
   "cell_type": "code",
   "execution_count": 4,
   "metadata": {},
   "outputs": [
    {
     "name": "stdout",
     "output_type": "stream",
     "text": [
      "4680 BOARD OF ESITMATES November 20, 2013 MINUTES REGULAR MEETING Honorable Bernard C. \"Jack\" Young, President Honorable Stephanie Rawlings-Blake, Mayor - ABSENT Harry Black, Director of Finance Honorable Joan M. Pratt, Comptroller and Secretary George A. Nilson, City Solicitor Alfred H. Foxx, Director of Public Works David E. Ralph, Deputy City Solicitor Rudolph S. Chow, Deputy Director of Public Works Bernice H. Taylor, Deputy Comptroller and Clerk Pursuant to Article VI, Section 1(c) of the r\n"
     ]
    }
   ],
   "source": [
    "# specifies the paths for a couple sample pdfs\n",
    "meeting1_path = Path(\"pdf_files/2013/2013_11_20.pdf\")\n",
    "meeting2_path = Path(\"pdf_files/2010/2010_03_17.pdf\")\n",
    "\n",
    "# uses parse_pdf() to instantiate the Minutes class for each meeting\n",
    "meeting1 = parse_pdf(meeting1_path)\n",
    "meeting2 = parse_pdf(meeting2_path)\n",
    "\n",
    "print(meeting1.clean_text[:500])"
   ]
  },
  {
   "cell_type": "markdown",
   "metadata": {},
   "source": [
    "## Process and prepare data\n",
    "### Create a Pandas dataframe with full texts  \n",
    "Now that we have the .pdf files we need, we're ready to read them and store their text in a Pandas dataframe. \n",
    "\n",
    "This should take about one minute for each year of data."
   ]
  },
  {
   "cell_type": "code",
   "execution_count": null,
   "metadata": {
    "scrolled": true
   },
   "outputs": [
    {
     "name": "stdout",
     "output_type": "stream",
     "text": [
      "An error occurred reading file /Users/james/Documents/Bmore/repos/BOE_tabulator/pdf_files/2013/2013_06_19.pdf\n",
      "An error occurred reading file /Users/james/Documents/Bmore/repos/BOE_tabulator/pdf_files/2013/2013_06_26.pdf\n"
     ]
    }
   ],
   "source": [
    "text_df_raw = store_pdf_text_to_df(pdf_dir)"
   ]
  },
  {
   "cell_type": "markdown",
   "metadata": {},
   "source": [
    "### View a sample of the stored text"
   ]
  },
  {
   "cell_type": "code",
   "execution_count": null,
   "metadata": {},
   "outputs": [],
   "source": [
    "text_df_raw.sample(6, random_state=444)"
   ]
  },
  {
   "cell_type": "markdown",
   "metadata": {},
   "source": [
    "### Replace erroneous characters and consolidate white spaces\n",
    "Not sure if decision to transform all multiple white spaces to a single white space will work for the long term because we may need to use multiple spaces to detect certain fields.\n",
    "\n",
    "I hope we won't need to do that, though. Currently we're consolidating all multiple white spaces into just one white space."
   ]
  },
  {
   "cell_type": "code",
   "execution_count": null,
   "metadata": {},
   "outputs": [],
   "source": [
    "text_df = text_df_raw.copy()\n",
    "\n",
    "text_df['text'] = text_df['minutes'].apply(replace_chars)"
   ]
  },
  {
   "cell_type": "code",
   "execution_count": null,
   "metadata": {},
   "outputs": [],
   "source": [
    "# view a sample of the transformed text\n",
    "print(text_df['text'][0][0:500])"
   ]
  },
  {
   "cell_type": "code",
   "execution_count": null,
   "metadata": {},
   "outputs": [],
   "source": [
    "def add_fiscal_year(df):\n",
    "    df = df.copy()\n",
    "    df[\"calendar_year\"] = df[\"date\"].dt.year\n",
    "    df[\"month\"] = df[\"date\"].dt.month\n",
    "    c = pd.to_numeric(df[\"calendar_year\"])\n",
    "    df[\"fiscal_year\"] = np.where(df[\"month\"] >= 7, c + 1, c)\n",
    "    df[\"fiscal_year\"] = (pd.to_datetime(df[\"fiscal_year\"], format=\"%Y\")).dt.year\n",
    "    return df\n",
    "\n",
    "text_df['date'] = pd.to_datetime(text_df['date'])\n",
    "text_df = add_fiscal_year(text_df)\n",
    "\n",
    "text_df.head(3)"
   ]
  },
  {
   "cell_type": "markdown",
   "metadata": {},
   "source": [
    "### Store the date of meeting as the index"
   ]
  },
  {
   "cell_type": "code",
   "execution_count": null,
   "metadata": {},
   "outputs": [],
   "source": [
    "text_df = text_df.set_index('date', drop=False)\n",
    "text_df['word_count'] = text_df['text'].apply(lambda x: len(x.split()))\n",
    "\n",
    "text_df.head(3)"
   ]
  },
  {
   "cell_type": "markdown",
   "metadata": {},
   "source": [
    "## Test consistency of the pdfs"
   ]
  },
  {
   "cell_type": "code",
   "execution_count": null,
   "metadata": {},
   "outputs": [],
   "source": []
  }
 ],
 "metadata": {
  "kernelspec": {
   "display_name": "Python 3",
   "language": "python",
   "name": "python3"
  },
  "language_info": {
   "codemirror_mode": {
    "name": "ipython",
    "version": 3
   },
   "file_extension": ".py",
   "mimetype": "text/x-python",
   "name": "python",
   "nbconvert_exporter": "python",
   "pygments_lexer": "ipython3",
   "version": "3.7.7"
  },
  "toc": {
   "base_numbering": 1,
   "nav_menu": {},
   "number_sections": true,
   "sideBar": true,
   "skip_h1_title": true,
   "title_cell": "Table of Contents",
   "title_sidebar": "Contents",
   "toc_cell": false,
   "toc_position": {
    "height": "calc(100% - 180px)",
    "left": "10px",
    "top": "150px",
    "width": "239.549px"
   },
   "toc_section_display": true,
   "toc_window_display": true
  }
 },
 "nbformat": 4,
 "nbformat_minor": 4
}
